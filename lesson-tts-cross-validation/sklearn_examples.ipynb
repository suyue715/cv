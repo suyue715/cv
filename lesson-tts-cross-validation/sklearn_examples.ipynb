{
 "cells": [
  {
   "cell_type": "markdown",
   "metadata": {},
   "source": [
    "# `train_test_split()`"
   ]
  },
  {
   "cell_type": "code",
   "execution_count": 1,
   "metadata": {
    "collapsed": true
   },
   "outputs": [],
   "source": [
    "from sklearn.datasets import load_boston\n",
    "from sklearn.model_selection import train_test_split\n",
    "from sklearn.linear_model import LinearRegression\n",
    "import numpy as np\n",
    "import pandas as pd\n",
    "import matplotlib.pyplot as plt\n",
    "%matplotlib inline"
   ]
  },
  {
   "cell_type": "markdown",
   "metadata": {},
   "source": [
    "Import data, take `TAX`, `CRIM`, and `PTRATIO` and assign to `X`. Assign target to `y`."
   ]
  },
  {
   "cell_type": "code",
   "execution_count": 2,
   "metadata": {
    "collapsed": false
   },
   "outputs": [
    {
     "name": "stdout",
     "output_type": "stream",
     "text": [
      "Boston House Prices dataset\n",
      "===========================\n",
      "\n",
      "Notes\n",
      "------\n",
      "Data Set Characteristics:  \n",
      "\n",
      "    :Number of Instances: 506 \n",
      "\n",
      "    :Number of Attributes: 13 numeric/categorical predictive\n",
      "    \n",
      "    :Median Value (attribute 14) is usually the target\n",
      "\n",
      "    :Attribute Information (in order):\n",
      "        - CRIM     per capita crime rate by town\n",
      "        - ZN       proportion of residential land zoned for lots over 25,000 sq.ft.\n",
      "        - INDUS    proportion of non-retail business acres per town\n",
      "        - CHAS     Charles River dummy variable (= 1 if tract bounds river; 0 otherwise)\n",
      "        - NOX      nitric oxides concentration (parts per 10 million)\n",
      "        - RM       average number of rooms per dwelling\n",
      "        - AGE      proportion of owner-occupied units built prior to 1940\n",
      "        - DIS      weighted distances to five Boston employment centres\n",
      "        - RAD      index of accessibility to radial highways\n",
      "        - TAX      full-value property-tax rate per $10,000\n",
      "        - PTRATIO  pupil-teacher ratio by town\n",
      "        - B        1000(Bk - 0.63)^2 where Bk is the proportion of blacks by town\n",
      "        - LSTAT    % lower status of the population\n",
      "        - MEDV     Median value of owner-occupied homes in $1000's\n",
      "\n",
      "    :Missing Attribute Values: None\n",
      "\n",
      "    :Creator: Harrison, D. and Rubinfeld, D.L.\n",
      "\n",
      "This is a copy of UCI ML housing dataset.\n",
      "http://archive.ics.uci.edu/ml/datasets/Housing\n",
      "\n",
      "\n",
      "This dataset was taken from the StatLib library which is maintained at Carnegie Mellon University.\n",
      "\n",
      "The Boston house-price data of Harrison, D. and Rubinfeld, D.L. 'Hedonic\n",
      "prices and the demand for clean air', J. Environ. Economics & Management,\n",
      "vol.5, 81-102, 1978.   Used in Belsley, Kuh & Welsch, 'Regression diagnostics\n",
      "...', Wiley, 1980.   N.B. Various transformations are used in the table on\n",
      "pages 244-261 of the latter.\n",
      "\n",
      "The Boston house-price data has been used in many machine learning papers that address regression\n",
      "problems.   \n",
      "     \n",
      "**References**\n",
      "\n",
      "   - Belsley, Kuh & Welsch, 'Regression diagnostics: Identifying Influential Data and Sources of Collinearity', Wiley, 1980. 244-261.\n",
      "   - Quinlan,R. (1993). Combining Instance-Based and Model-Based Learning. In Proceedings on the Tenth International Conference of Machine Learning, 236-243, University of Massachusetts, Amherst. Morgan Kaufmann.\n",
      "   - many more! (see http://archive.ics.uci.edu/ml/datasets/Housing)\n",
      "\n"
     ]
    }
   ],
   "source": [
    "data = load_boston()\n",
    "\n",
    "print(data.DESCR)"
   ]
  },
  {
   "cell_type": "code",
   "execution_count": 3,
   "metadata": {
    "collapsed": false
   },
   "outputs": [
    {
     "name": "stdout",
     "output_type": "stream",
     "text": [
      "     TAX     CRIM  PTRATIO\n",
      "0  296.0  0.00632     15.3\n",
      "1  242.0  0.02731     17.8\n",
      "2  242.0  0.02729     17.8\n",
      "3  222.0  0.03237     18.7\n",
      "4  222.0  0.06905     18.7\n",
      "      0\n",
      "0  24.0\n",
      "1  21.6\n",
      "2  34.7\n",
      "3  33.4\n",
      "4  36.2\n"
     ]
    }
   ],
   "source": [
    "boston = pd.DataFrame(data.data, columns=data.feature_names)\n",
    "X = boston[['TAX', 'CRIM', 'PTRATIO']].copy()\n",
    "boston_y = pd.DataFrame(data.target)\n",
    "\n",
    "print(X.head())\n",
    "print(boston_y.head())"
   ]
  },
  {
   "cell_type": "markdown",
   "metadata": {},
   "source": [
    "Create `X_train, X_test, y_train, y_test` using train-test split with a 33% holdout"
   ]
  },
  {
   "cell_type": "code",
   "execution_count": 5,
   "metadata": {
    "collapsed": false
   },
   "outputs": [
    {
     "name": "stdout",
     "output_type": "stream",
     "text": [
      "(339, 13) (167, 13) (339, 1) (167, 1)\n"
     ]
    }
   ],
   "source": [
    "X_train, X_test, y_train, y_test = train_test_split(boston, boston_y, test_size=0.33)\n",
    "\n",
    "print(X_train.shape, X_test.shape, y_train.shape, y_test.shape)"
   ]
  },
  {
   "cell_type": "markdown",
   "metadata": {},
   "source": [
    "Fit a linear regression to the **training** set (`X_train` and `y_train`) and look at the $R^2$ score **on the training set**"
   ]
  },
  {
   "cell_type": "code",
   "execution_count": 8,
   "metadata": {
    "collapsed": false
   },
   "outputs": [
    {
     "name": "stdout",
     "output_type": "stream",
     "text": [
      "0.770182366337\n"
     ]
    }
   ],
   "source": [
    "lr = LinearRegression()\n",
    "lr.fit(X_train, y_train)\n",
    "print(lr.score(X_train, y_train))"
   ]
  },
  {
   "cell_type": "markdown",
   "metadata": {},
   "source": [
    "Why is the $R^2$ using the **training set** misleading?"
   ]
  },
  {
   "cell_type": "markdown",
   "metadata": {},
   "source": [
    "**Without refitting the data**, look at the $R^2$ score on the **test set** (`X_test` and `y_test`)"
   ]
  },
  {
   "cell_type": "code",
   "execution_count": 9,
   "metadata": {
    "collapsed": false
   },
   "outputs": [
    {
     "name": "stdout",
     "output_type": "stream",
     "text": [
      "0.653450237186\n"
     ]
    }
   ],
   "source": [
    "print(lr.score(X_test, y_test))"
   ]
  },
  {
   "cell_type": "markdown",
   "metadata": {},
   "source": [
    "Why is this a more accurate measure of how well our linear regression of `TAX`, `CRIM`, and `PTRATIO` on `MDEV`? "
   ]
  },
  {
   "cell_type": "markdown",
   "metadata": {},
   "source": [
    "## Try it out!"
   ]
  },
  {
   "cell_type": "markdown",
   "metadata": {},
   "source": [
    "Import the `datasets/salary.csv` dataset. This dataset records the salary of academics and measures the following features:\n",
    "\n",
    "- sx = Sex, coded 1 for female and 0 for male\n",
    "- rk = Rank, coded\n",
    "  - 1 for assistant professor,\n",
    "  - 2 for associate professor, and\n",
    "  - 3 for full professor\n",
    "- yr = Number of years in current rank\n",
    "- dg = Highest degree, coded 1 if doctorate, 0 if masters\n",
    "- yd = Number of years since highest degree was earned\n",
    "- sl = Academic year salary, in dollars.\n",
    "\n",
    "Import the salary data, assign the `yr` and `yd` columns to a variable named `X`, then assign `sl` to a variable named `y`"
   ]
  },
  {
   "cell_type": "code",
   "execution_count": 17,
   "metadata": {
    "collapsed": false
   },
   "outputs": [],
   "source": [
    "#from sklearn.datasets import salary\n",
    "\n",
    "salary=pd.read_csv('datasets/salary.csv')\n",
    "X=salary[['yr','yd']].copy()"
   ]
  },
  {
   "cell_type": "code",
   "execution_count": 19,
   "metadata": {
    "collapsed": false
   },
   "outputs": [],
   "source": [
    "y=salary[['sl']].copy()"
   ]
  },
  {
   "cell_type": "code",
   "execution_count": null,
   "metadata": {
    "collapsed": false
   },
   "outputs": [],
   "source": []
  },
  {
   "cell_type": "markdown",
   "metadata": {},
   "source": [
    "Use `train_test_split()` to create a training set and a test set, split 50/50"
   ]
  },
  {
   "cell_type": "code",
   "execution_count": 21,
   "metadata": {
    "collapsed": false
   },
   "outputs": [
    {
     "name": "stdout",
     "output_type": "stream",
     "text": [
      "(26, 2) (26, 2) (26, 1) (26, 1)\n"
     ]
    }
   ],
   "source": [
    "X_train, X_test, y_train, y_test = train_test_split(X, y, test_size=0.5)\n",
    "\n",
    "print(X_train.shape, X_test.shape, y_train.shape, y_test.shape)"
   ]
  },
  {
   "cell_type": "markdown",
   "metadata": {},
   "source": [
    "Train a linear regression using the training set. What does the $R^2$ look like for the training set? What does the $R^2$ look like for the test set? Which is higher? Which is a more accurate number? Why?"
   ]
  },
  {
   "cell_type": "code",
   "execution_count": 22,
   "metadata": {
    "collapsed": false
   },
   "outputs": [
    {
     "name": "stdout",
     "output_type": "stream",
     "text": [
      "0.420410699118\n"
     ]
    }
   ],
   "source": [
    "lr = LinearRegression()\n",
    "lr.fit(X_train, y_train)\n",
    "print(lr.score(X_train, y_train))"
   ]
  },
  {
   "cell_type": "code",
   "execution_count": 23,
   "metadata": {
    "collapsed": false
   },
   "outputs": [
    {
     "name": "stdout",
     "output_type": "stream",
     "text": [
      "0.699331046667\n"
     ]
    }
   ],
   "source": [
    "print(lr.score(X_test, y_test))"
   ]
  },
  {
   "cell_type": "markdown",
   "metadata": {},
   "source": [
    "# `cross_val_score()` and `cross_val_predict()`"
   ]
  },
  {
   "cell_type": "markdown",
   "metadata": {},
   "source": [
    "Let's use `cross_val_score()` and `cross_val_predict()` to do cross-validation and to take a quick look at each fold.\n",
    "\n",
    "Using the boston data, let's pick `CRIM`, `ZN`, and `INDUS` for our predictors and assign them to `X`"
   ]
  },
  {
   "cell_type": "code",
   "execution_count": 24,
   "metadata": {
    "collapsed": false
   },
   "outputs": [
    {
     "name": "stdout",
     "output_type": "stream",
     "text": [
      "      CRIM    ZN  INDUS\n",
      "0  0.00632  18.0   2.31\n",
      "1  0.02731   0.0   7.07\n",
      "2  0.02729   0.0   7.07\n",
      "3  0.03237   0.0   2.18\n",
      "4  0.06905   0.0   2.18\n",
      "      0\n",
      "0  24.0\n",
      "1  21.6\n",
      "2  34.7\n",
      "3  33.4\n",
      "4  36.2\n"
     ]
    }
   ],
   "source": [
    "X = boston[['CRIM', 'ZN', 'INDUS']].copy()\n",
    "print(X.head())\n",
    "print(boston_y.head())"
   ]
  },
  {
   "cell_type": "markdown",
   "metadata": {},
   "source": [
    "Use `cross_val_score()` and five-fold cross-validation to see the $R^2$ for each of the folds compared to the test set for that fold:"
   ]
  },
  {
   "cell_type": "code",
   "execution_count": 26,
   "metadata": {
    "collapsed": false
   },
   "outputs": [
    {
     "name": "stdout",
     "output_type": "stream",
     "text": [
      "[-0.27506897  0.15798987 -0.28479877  0.03225963 -0.00700344]\n"
     ]
    }
   ],
   "source": [
    "from sklearn.model_selection import cross_val_score, cross_val_predict\n",
    "\n",
    "lr = LinearRegression()\n",
    "\n",
    "print(cross_val_score(lr, X, boston_y, cv=5))\n",
    "#cross_val_score(lr, X, boston_y, cv=5)\n",
    "#cross_val_score(modeltype, x, y, cv=number of folds))"
   ]
  },
  {
   "cell_type": "markdown",
   "metadata": {},
   "source": [
    "What do the low $R^2$ scores mean? If they were there, what does a **negative** $R^2$ show?"
   ]
  },
  {
   "cell_type": "markdown",
   "metadata": {},
   "source": [
    "We may also want to see an overall score for these folds. Typically, we will take the average $R^2$ across each fold:"
   ]
  },
  {
   "cell_type": "code",
   "execution_count": 28,
   "metadata": {
    "collapsed": false
   },
   "outputs": [
    {
     "name": "stdout",
     "output_type": "stream",
     "text": [
      "-0.0753243358482 0.175758376411\n"
     ]
    }
   ],
   "source": [
    "scores = cross_val_score(lr, X, boston_y, cv=5)\n",
    "print(scores.mean(),scores.std())"
   ]
  },
  {
   "cell_type": "markdown",
   "metadata": {},
   "source": [
    "Use `cross_val_predict()` and assign the predicted values for each test fold to an object called `predictions`. How many predictions should we have in total?"
   ]
  },
  {
   "cell_type": "code",
   "execution_count": 29,
   "metadata": {
    "collapsed": true
   },
   "outputs": [],
   "source": [
    "predictions = cross_val_predict(lr, X, boston_y, cv=5)"
   ]
  },
  {
   "cell_type": "code",
   "execution_count": null,
   "metadata": {
    "collapsed": false
   },
   "outputs": [],
   "source": []
  },
  {
   "cell_type": "markdown",
   "metadata": {},
   "source": [
    "`cross_val_predict()` lets us use the predictions from each fold to look at metrics that are important but not part of `LinearRegression()`'s `.score()` method, such as the mean squared error. The mean squared error is the average difference between the true y and the predicted y:\n",
    "\n",
    "$$ \\text{Mean Squared Error} = \\frac{\\sum(y_i - \\hat{y}_i)^2}{n} $$\n",
    "\n",
    "We will import sklearn's `mean_squared_error()` function which takes in a true y and a predicted y and outputs the MSE"
   ]
  },
  {
   "cell_type": "code",
   "execution_count": 31,
   "metadata": {
    "collapsed": false
   },
   "outputs": [
    {
     "data": {
      "text/plain": [
       "67.002796886508037"
      ]
     },
     "execution_count": 31,
     "metadata": {},
     "output_type": "execute_result"
    }
   ],
   "source": [
    "from sklearn.metrics import mean_squared_error\n",
    "\n",
    "mean_squared_error(boston_y, predictions)"
   ]
  },
  {
   "cell_type": "markdown",
   "metadata": {},
   "source": [
    "## Try it out!"
   ]
  },
  {
   "cell_type": "markdown",
   "metadata": {},
   "source": [
    "Using the Boston housing data above, try a different set of columns -- does the $R^2$ on the folds shown by `cross_val_score()` improve? What about the MSE using the predictions output by `cross_val_predict()`?"
   ]
  },
  {
   "cell_type": "code",
   "execution_count": null,
   "metadata": {
    "collapsed": true
   },
   "outputs": [],
   "source": []
  },
  {
   "cell_type": "markdown",
   "metadata": {},
   "source": [
    "# `KFold`"
   ]
  },
  {
   "cell_type": "markdown",
   "metadata": {},
   "source": [
    "Sklearn also lets us manually create folds, which we can then call other options on. This is helpful if we want to do more advanced work on each of those folds. \n",
    "\n",
    "In the following example, we will fit a linear regression using every column in the Boston housing data and validating its efficacy using 5-fold cross-validation. For each fold, I will calculate the $R^2$ and the MSE -- this would be difficult to do without using `KFolds` to manually split up the data.\n",
    "\n",
    "For ease of indexing, I am converting `X` into a `numpy` array using the `.values` attribute"
   ]
  },
  {
   "cell_type": "code",
   "execution_count": 34,
   "metadata": {
    "collapsed": true
   },
   "outputs": [],
   "source": [
    "from sklearn.model_selection import KFold"
   ]
  },
  {
   "cell_type": "code",
   "execution_count": 35,
   "metadata": {
    "collapsed": false
   },
   "outputs": [
    {
     "name": "stdout",
     "output_type": "stream",
     "text": [
      "(506, 13) (506, 1)\n"
     ]
    }
   ],
   "source": [
    "X = boston.copy().values\n",
    "boston_y = boston_y.values\n",
    "\n",
    "print(X.shape, boston_y.shape)"
   ]
  },
  {
   "cell_type": "markdown",
   "metadata": {},
   "source": [
    "Instantiate a `KFold` object with 5 folds"
   ]
  },
  {
   "cell_type": "code",
   "execution_count": 36,
   "metadata": {
    "collapsed": false
   },
   "outputs": [],
   "source": [
    "kfolds = KFold(5)"
   ]
  },
  {
   "cell_type": "markdown",
   "metadata": {},
   "source": [
    "`KFold` will take in one or two data collections and return back a set of paired indices for the folds in question:"
   ]
  },
  {
   "cell_type": "code",
   "execution_count": 37,
   "metadata": {
    "collapsed": false
   },
   "outputs": [
    {
     "name": "stdout",
     "output_type": "stream",
     "text": [
      "training:  [102 103 104 105 106] ... [500 501 502 503 504] \n",
      "test:  [0 1 2 3 4] ... [ 96  97  98  99 100] \n",
      "\n",
      "training:  [0 1 2 3 4] ... [500 501 502 503 504] \n",
      "test:  [102 103 104 105 106] ... [197 198 199 200 201] \n",
      "\n",
      "training:  [0 1 2 3 4] ... [500 501 502 503 504] \n",
      "test:  [203 204 205 206 207] ... [298 299 300 301 302] \n",
      "\n",
      "training:  [0 1 2 3 4] ... [500 501 502 503 504] \n",
      "test:  [304 305 306 307 308] ... [399 400 401 402 403] \n",
      "\n",
      "training:  [0 1 2 3 4] ... [399 400 401 402 403] \n",
      "test:  [405 406 407 408 409] ... [500 501 502 503 504] \n",
      "\n"
     ]
    }
   ],
   "source": [
    "for training_index, test_index in kfolds.split(X, boston_y):\n",
    "    print('training: ', training_index[0:5], '...', training_index[-6:-1], \n",
    "          '\\ntest: ', test_index[0:5], '...', test_index[-6:-1], '\\n')"
   ]
  },
  {
   "cell_type": "markdown",
   "metadata": {},
   "source": [
    "We will use these indices to manually split up `X` and `boston_y`:"
   ]
  },
  {
   "cell_type": "code",
   "execution_count": 38,
   "metadata": {
    "collapsed": false
   },
   "outputs": [
    {
     "name": "stdout",
     "output_type": "stream",
     "text": [
      "fold 0 - (404, 13) (102, 13) (404, 1) (102, 1)\n",
      "fold 1 - (405, 13) (101, 13) (405, 1) (101, 1)\n",
      "fold 2 - (405, 13) (101, 13) (405, 1) (101, 1)\n",
      "fold 3 - (405, 13) (101, 13) (405, 1) (101, 1)\n",
      "fold 4 - (405, 13) (101, 13) (405, 1) (101, 1)\n"
     ]
    }
   ],
   "source": [
    "counter = 0\n",
    "for training_index, test_index in kfolds.split(X, boston_y):\n",
    "    x_train = X[training_index]\n",
    "    x_test = X[test_index]\n",
    "    y_train = boston_y[training_index]\n",
    "    y_test = boston_y[test_index]\n",
    "    print('fold', counter, '-', x_train.shape, x_test.shape, y_train.shape, y_test.shape)\n",
    "    counter += 1 "
   ]
  },
  {
   "cell_type": "markdown",
   "metadata": {},
   "source": [
    "We then feed these folds into `LinearRegression()` to fit it to a given fold and then use `.score()` and `mean_squared_error()` to look at the fit on the test set in each fold:"
   ]
  },
  {
   "cell_type": "code",
   "execution_count": 39,
   "metadata": {
    "collapsed": false
   },
   "outputs": [
    {
     "name": "stdout",
     "output_type": "stream",
     "text": [
      "Fold 0 - r^2 score: 0.638610693529 mse: 12.4806502123\n",
      "Fold 1 - r^2 score: 0.713344317153 mse: 26.0962026697\n",
      "Fold 2 - r^2 score: 0.586451336256 mse: 33.1199558727\n",
      "Fold 3 - r^2 score: 0.0784249546783 mse: 80.8330537787\n",
      "Fold 4 - r^2 score: -0.263124546955 mse: 33.5843556523\n"
     ]
    }
   ],
   "source": [
    "counter = 0\n",
    "lr = LinearRegression()\n",
    "for training_index, test_index in kfolds.split(X, boston_y):\n",
    "    x_train = X[training_index]\n",
    "    x_test = X[test_index]\n",
    "    y_train = boston_y[training_index]\n",
    "    y_test = boston_y[test_index]\n",
    "    lr.fit(x_train, y_train)\n",
    "    r2_score = lr.score(x_test, y_test)\n",
    "    fold_predictions = lr.predict(x_test)\n",
    "    mse_score = mean_squared_error(y_test, fold_predictions)\n",
    "    print('Fold', counter, '- r^2 score:', r2_score, 'mse:', mse_score)\n",
    "    counter += 1"
   ]
  },
  {
   "cell_type": "code",
   "execution_count": 40,
   "metadata": {
    "collapsed": false
   },
   "outputs": [
    {
     "name": "stdout",
     "output_type": "stream",
     "text": [
      "Fold 0 - r^2 score: 0.638610693529 mse: 12.4806502123\n"
     ]
    },
    {
     "data": {
      "image/png": "[encoded data removed]",
      "text/plain": [
       "<matplotlib.figure.Figure at 0x113bc80f0>"
      ]
     },
     "metadata": {},
     "output_type": "display_data"
    },
    {
     "name": "stdout",
     "output_type": "stream",
     "text": [
      "Fold 1 - r^2 score: 0.713344317153 mse: 26.0962026697\n"
     ]
    },
    {
     "data": {
      "image/png": "[encoded data removed]",
      "text/plain": [
       "<matplotlib.figure.Figure at 0x113d59208>"
      ]
     },
     "metadata": {},
     "output_type": "display_data"
    },
    {
     "name": "stdout",
     "output_type": "stream",
     "text": [
      "Fold 2 - r^2 score: 0.586451336256 mse: 33.1199558727\n"
     ]
    },
    {
     "data": {
      "image/png": "[encoded data removed]",
      "text/plain": [
       "<matplotlib.figure.Figure at 0x113db8630>"
      ]
     },
     "metadata": {},
     "output_type": "display_data"
    },
    {
     "name": "stdout",
     "output_type": "stream",
     "text": [
      "Fold 3 - r^2 score: 0.0784249546783 mse: 80.8330537787\n"
     ]
    },
    {
     "data": {
      "image/png": "[encoded data removed]",
      "text/plain": [
       "<matplotlib.figure.Figure at 0x113e852b0>"
      ]
     },
     "metadata": {},
     "output_type": "display_data"
    },
    {
     "name": "stdout",
     "output_type": "stream",
     "text": [
      "Fold 4 - r^2 score: -0.263124546955 mse: 33.5843556523\n"
     ]
    },
    {
     "data": {
      "image/png": "[encoded data removed]",
      "text/plain": [
       "<matplotlib.figure.Figure at 0x113e5c2e8>"
      ]
     },
     "metadata": {},
     "output_type": "display_data"
    }
   ],
   "source": [
    "counter = 0\n",
    "lr = LinearRegression()\n",
    "for training_index, test_index in kfolds.split(X, boston_y):\n",
    "    x_train = X[training_index]\n",
    "    x_test = X[test_index]\n",
    "    y_train = boston_y[training_index]\n",
    "    y_test = boston_y[test_index]\n",
    "    lr.fit(x_train, y_train)\n",
    "    r2_score = lr.score(x_test, y_test)\n",
    "    fold_predictions = lr.predict(x_test)\n",
    "    mse_score = mean_squared_error(y_test, fold_predictions)\n",
    "    plt.scatter(y_test,fold_predictions)\n",
    "    print('Fold', counter, '- r^2 score:', r2_score, 'mse:', mse_score)\n",
    "    plt.show()\n",
    "    counter += 1"
   ]
  },
  {
   "cell_type": "markdown",
   "metadata": {},
   "source": [
    "By using `KFold` we are able to access the folds _as they are created_ and can learn more about how well each fold does using different statistics. \n",
    "\n",
    "**Discussion Questions**:\n",
    "\n",
    "1. Why might we want to look at different goodness of fit metrics during the cross-validation process?\n",
    "2. It looks like our $R^2$ changes pretty frequently but our `mse` is not particularly volatile in this process. Have we made a good modeling choice by including every column in Boston? Why or why not? "
   ]
  }
 ],
 "metadata": {
  "kernelspec": {
   "display_name": "Python [py36]",
   "language": "python",
   "name": "Python [py36]"
  },
  "language_info": {
   "codemirror_mode": {
    "name": "ipython",
    "version": 3
   },
   "file_extension": ".py",
   "mimetype": "text/x-python",
   "name": "python",
   "nbconvert_exporter": "python",
   "pygments_lexer": "ipython3",
   "version": "3.6.1"
  }
 },
 "nbformat": 4,
 "nbformat_minor": 2
}
